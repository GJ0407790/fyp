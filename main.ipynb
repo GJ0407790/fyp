{
 "cells": [
  {
   "cell_type": "code",
   "execution_count": 1,
   "metadata": {},
   "outputs": [
    {
     "name": "stderr",
     "output_type": "stream",
     "text": [
      "C:\\Users\\admin\\AppData\\Local\\Temp/ipykernel_26364/2676919736.py:3: TqdmExperimentalWarning: Using `tqdm.autonotebook.tqdm` in notebook mode. Use `tqdm.tqdm` instead to force console mode (e.g. in jupyter console)\n",
      "  from tqdm.autonotebook import tqdm\n"
     ]
    }
   ],
   "source": [
    "# import relevant libraries\n",
    "import os, sys, subprocess\n",
    "from tqdm.autonotebook import tqdm\n",
    "import jpegio as jio\n",
    "import numpy as np\n",
    "from PIL import Image\n",
    "import pandas as pd\n"
   ]
  },
  {
   "cell_type": "code",
   "execution_count": 2,
   "metadata": {},
   "outputs": [],
   "source": [
    "# Step 1: Initialize hyperparameter for k and n\n",
    "sqrt_k = 8\n",
    "k = 64\n",
    "n = 70\n",
    "\n",
    "# for traversing in zigzag order\n",
    "zigzag = [\n",
    "        [0, 1, 5, 6, 14, 15, 27, 28],\n",
    "        [2, 4, 7, 13, 16, 26, 29, 42],\n",
    "        [3, 8, 12, 17, 25, 30, 41, 43],\n",
    "        [9, 11, 18, 24, 31, 40, 44, 53],\n",
    "        [10, 19, 23, 32, 39, 45, 52, 54],\n",
    "        [20, 22, 33, 38, 46, 51, 55, 60],\n",
    "        [21, 34, 37, 47, 50, 56, 59, 61],\n",
    "        [35, 36, 48, 49, 57, 58, 62, 63],\n",
    "    ] "
   ]
  },
  {
   "cell_type": "code",
   "execution_count": 3,
   "metadata": {},
   "outputs": [],
   "source": [
    "# Step 2: Get the quantization table and DCT coefficient array\n",
    "def get_qtable_ctable_from_jpg(path):\n",
    "    image = jio.read(path)\n",
    "\n",
    "    # print(\"Opened {img_path}, with size {height}x{width}\".format(\n",
    "    # img_path=path, height=image.image_height, width=image.image_width))\n",
    "    \n",
    "    # print(\"Shape of quantization table: \" + str(qtable.shape))\n",
    "    # print(\"Shape of coefficient table: \" + str(ctable.shape))\n",
    "\n",
    "    return np.copy(image.quant_tables[0]), np.copy(image.coef_arrays[0])"
   ]
  },
  {
   "cell_type": "code",
   "execution_count": 4,
   "metadata": {},
   "outputs": [],
   "source": [
    "# Generates the histogram fro coefficient arrays\n",
    "# Calculate the occurence from the same position in the block (1 to 64)\n",
    "# Outputs a tuple (histogram, rmin), where rmin is the min value in histogram for comparison\n",
    "def generate_hist_from_coeff(ctable):\n",
    "    # Split into array of 8x8 blocks\n",
    "    ctable_h, ctable_w = ctable.shape[:2]\n",
    "\n",
    "    extra_h, extra_w = ctable_h % sqrt_k, ctable_w % sqrt_k\n",
    "    # To make the height and width be multiple of sqrt_k for reshaping later\n",
    "    if extra_h > 0:\n",
    "        ctable = ctable[:-extra_h]\n",
    "    \n",
    "    if extra_w > 0:\n",
    "        ctable = ctable[:, :-extra_w]\n",
    "\n",
    "    num_h, num_w = ctable_h // sqrt_k, ctable_w // sqrt_k \n",
    "    num_blocks = (num_h) * (num_w)\n",
    "\n",
    "    # transpose is to arrange the blocks into 2d matrix of blocks\n",
    "    blocks = ctable.reshape(num_h, sqrt_k, num_w, sqrt_k).transpose(0, 2, 1, 3)\n",
    "    # print(\"Shape of blocks: \" + str(blocks.shape) + \", type: \" + str(blocks.dtype))\n",
    "\n",
    "    # counts[i] store the value from the i-th position in 8x8 block\n",
    "    counts = np.ndarray((k, num_blocks), dtype=np.int32)\n",
    "\n",
    "    for r in range(num_h):\n",
    "        for c in range(num_w):\n",
    "            for br in range(sqrt_k):\n",
    "                for bc in range(sqrt_k):\n",
    "                    counts[zigzag[br][bc], r * num_w + c] = blocks[r, c, br, bc]\n",
    "    \n",
    "    rmin = counts.min()\n",
    "    rmax = counts.max()\n",
    "    # print(\"Shape of counts: \" + str(counts.shape))\n",
    "    # print(\"The range of values is [{rmin}, {rmax}]\".format(rmin=rmin, rmax=rmax))\n",
    "\n",
    "    # the range of the value in histogram lies within [rmin, rmax]\n",
    "    rlen = rmax - rmin + 1\n",
    "\n",
    "    histograms = np.zeros((k, rlen), dtype=np.int32)\n",
    "    for i in range(k):\n",
    "        for j in range(counts.shape[1]):\n",
    "            # shift by rmin\n",
    "            histograms[i][counts[i][j] - rmin] += 1\n",
    "\n",
    "    # print(\"Length of histograms: \" + str(len(histograms)))\n",
    "    # print(histograms[0])\n",
    "\n",
    "    return histograms, rmin"
   ]
  },
  {
   "cell_type": "code",
   "execution_count": 5,
   "metadata": {},
   "outputs": [],
   "source": [
    "# Save image into bmp format for compression purpose\n",
    "def save_img_as_bmp(img_path, crop_len, output_img):\n",
    "    with Image.open(img_path) as im:\n",
    "        (left, upper, right, lower) = (crop_len, crop_len, im.width - crop_len, im.height - crop_len)\n",
    "        im_crop = im.crop((left, upper, right, lower))\n",
    "        im_crop.save(output_img)\n",
    "\n",
    "def save_img_as_bmp_box(img_path, left, upper, right, lower, output_img):\n",
    "    with Image.open(img_path) as im:\n",
    "        im_crop = im.crop((left, upper, right, lower))\n",
    "        im_crop.save(output_img)\n",
    "\n",
    "# with Image.open(\"temp.bmp\") as im_test:\n",
    "#     print(\"The size of image is ({h}, {w})\".format(h=im_test.height, w=im_test.width))"
   ]
  },
  {
   "cell_type": "code",
   "execution_count": 6,
   "metadata": {},
   "outputs": [],
   "source": [
    "# Write the latest quantization table into qm.txt for compression later\n",
    "def write_latest_qtable(qtable, output_file='qm.txt'):\n",
    "    with open(output_file, \"w\") as f:\n",
    "        for qrow in qtable:\n",
    "            for ele in qrow:\n",
    "                f.write(str(ele) + ' ')\n",
    "            f.write('\\n')\n",
    "\n",
    "# Write constant matrices into qtable.txt to compress\n",
    "def write_const_mat(i, output_file='qtable.txt'):\n",
    "    with open(output_file, \"w\") as file:\n",
    "        for _ in range(sqrt_k):\n",
    "            file.write(' '.join([str(i)] * sqrt_k))\n",
    "            file.write('\\n')"
   ]
  },
  {
   "cell_type": "code",
   "execution_count": 7,
   "metadata": {},
   "outputs": [],
   "source": [
    "# Compresses the given img to jpeg using the quantization table in qtable.txt\n",
    "def compress_with_qtable(qtable_file, outfile, img):\n",
    "    cjpeg = os.path.join('libjpeg-turbo', 'cjpeg')\n",
    "    subprocess.run(cjpeg + ' -qtable {qtable} -outfile {outfile} {img}'.format(qtable=qtable_file, outfile=outfile, img=img))\n",
    "\n",
    "# Compresses the given img to jpeg following the quality factor\n",
    "def compress_with_quality(quality, outfile, img):\n",
    "    cjpeg = os.path.join('libjpeg-turbo', 'cjpeg')\n",
    "    subprocess.run(cjpeg + ' -quality {quality} -outfile {outfile} {img}'.format(quality=quality, outfile=outfile, img=img))"
   ]
  },
  {
   "cell_type": "code",
   "execution_count": 8,
   "metadata": {},
   "outputs": [],
   "source": [
    "# Generate histograms for constant matrix with all elements equal i\n",
    "def generate_hist_from_const_qtable(i):\n",
    "    write_const_mat(i)\n",
    "\n",
    "    const_qtable_file='qtable.txt'\n",
    "    latest_qtable_file='qm.txt'\n",
    "    first_compress_source='temp.bmp'\n",
    "    first_compress_target='temp.jpg'\n",
    "    second_compress_source='res.bmp'\n",
    "    second_compress_target='res.jpg'\n",
    "\n",
    "    # compress using the constant matrix\n",
    "    compress_with_qtable(qtable_file=const_qtable_file, outfile=first_compress_target, img=first_compress_source)\n",
    "    \n",
    "    # save the temp.jpg as res.bmp to compress it again\n",
    "    save_img_as_bmp(img_path=first_compress_target, crop_len=0, output_img=second_compress_source)\n",
    "\n",
    "    # finally compress res.bmp to res.jpg using qm\n",
    "    compress_with_qtable(qtable_file=latest_qtable_file, outfile=second_compress_target, img=second_compress_source)\n",
    "\n",
    "    # get the coefficient array in res.jpg\n",
    "    curr_qtable, curr_ctable = get_qtable_ctable_from_jpg(second_compress_target)\n",
    "\n",
    "    return generate_hist_from_coeff(curr_ctable)\n",
    "\n",
    "# Generate a list of histograms for different constant matrix \n",
    "# Outputs (histograms, mins) where histograms is the list of histogram and mins is the list of minimum value in each histogram\n",
    "def generate_all_hist():\n",
    "    histograms = []\n",
    "    mins = []\n",
    "\n",
    "    for i in range(1, n + 1):\n",
    "        hist, rmin = generate_hist_from_const_qtable(i)\n",
    "        histograms.append(hist)\n",
    "        mins.append(rmin)\n",
    "        # print(\"Finish process for x={i}\".format(i=i))\n",
    "    \n",
    "    return histograms, mins\n",
    "    "
   ]
  },
  {
   "cell_type": "code",
   "execution_count": 9,
   "metadata": {},
   "outputs": [],
   "source": [
    "# Calculate the chi square distance between two histograms\n",
    "def compare_two_histogram(hist1, rmin1, hist2, rmin2):\n",
    "    rmax1, rmax2 = rmin1 + len(hist1) - 1, rmin2 + len(hist2) - 1\n",
    "\n",
    "    # can split into three segments: \n",
    "    # 1: (min(rmin1, rmin2), max(rmin1, rmin2)) --> (l, ml)\n",
    "    # 2: (max(rmin1, rmin2), min(rmax1, rmax2)) --> (ml, mr)\n",
    "    # 3: (min(rmax1, rmax2), max(rmax1, rmax2)) --> (mr, r)\n",
    "    l, r = min(rmin1, rmin2), max(rmax1, rmax2)\n",
    "\n",
    "    chi_dist = 0\n",
    "\n",
    "    for i in range(l, r + 1):\n",
    "        # we use x to represent hist1, y to represent hist2\n",
    "        # i not in [rmin1, rmax1] means it is out of bound, let it be 0\n",
    "        x = 0 if i < rmin1 or i > rmax1 else hist1[i - rmin1]\n",
    "        y = 0 if i < rmin2 or i > rmax2 else hist2[i - rmin2]\n",
    "        \n",
    "        if x + y == 0:\n",
    "            continue\n",
    "\n",
    "        chi_dist += ((x - y) ** 2) / (x + y)\n",
    "\n",
    "    return chi_dist"
   ]
  },
  {
   "cell_type": "code",
   "execution_count": 10,
   "metadata": {},
   "outputs": [],
   "source": [
    "# pos in range [0, 63]\n",
    "def find_val_for_pos(i, D_jref, Dmin, hists, mins):\n",
    "    chi_dists = []\n",
    "\n",
    "    # hist = hists[idx], min = mins[idx]\n",
    "    for idx, hist in enumerate(hists):\n",
    "        chi_dists.append((idx + 1, compare_two_histogram(D_jref, Dmin, hist[i], mins[idx])))\n",
    "\n",
    "    # sort chi_dists according to chi_dist computed\n",
    "    chi_dists.sort(key=lambda x: x[1])\n",
    "\n",
    "    return chi_dists[0][0]\n",
    "\n",
    "# Find the second previous quantization table (the essence of the algorithm)\n",
    "# img must be a jpeg extension (since we are extracting the quantization table)\n",
    "def find_second_latest_qtable(dir, img):\n",
    "    img_path = os.path.join(dir, img)\n",
    "    \n",
    "    # Get qtable and ctable from the image\n",
    "    qtable, ctable = get_qtable_ctable_from_jpg(img_path)\n",
    "\n",
    "    # Write the latest quantization table into qm.txt once for this current image\n",
    "    write_latest_qtable(qtable, 'qm.txt')\n",
    "    \n",
    "    # Save cropped image as temp.bmp\n",
    "    save_img_as_bmp(img_path, crop_len=4, output_img='temp.bmp')\n",
    "\n",
    "    # Calculate the histogram for the reference histogram D_ref\n",
    "    # The histogram for each constant qtable after compressing twice\n",
    "    # Each histogram has length 64 that stores distribution of pos i in histogram[i]\n",
    "    D_ref, Dmin = generate_hist_from_coeff(ctable=ctable)\n",
    "    hists, mins = generate_all_hist()\n",
    "    \n",
    "    target_qtable = [1] * k\n",
    "\n",
    "    for i in range(k):\n",
    "        target_qtable[i] = find_val_for_pos(i, D_ref[i], Dmin, hists, mins)\n",
    "    \n",
    "    # print(target_qtable)\n",
    "    # restore the target_qtable into 8x8 matrix\n",
    "    res = [[1 for i in range(sqrt_k)] for j in range(sqrt_k)]\n",
    "\n",
    "    for r in range(sqrt_k):\n",
    "        for c in range(sqrt_k):\n",
    "            # print(str(zigzag[r][c]) + \" \" + str(target_qtable[zigzag[r][c]]))\n",
    "            res[r][c] = target_qtable[zigzag[r][c]]\n",
    "    \n",
    "    # write_latest_qtable(res, 'ans.txt')\n",
    "\n",
    "    return res"
   ]
  },
  {
   "cell_type": "code",
   "execution_count": 11,
   "metadata": {},
   "outputs": [],
   "source": [
    "def read_qtable(file):\n",
    "    qtable = [[1 for i in range(sqrt_k)] for j in range(sqrt_k)]\n",
    "    r = 0\n",
    "\n",
    "    with open(file, 'r') as f:\n",
    "        for line in f.readlines():\n",
    "            row = line.split(' ')\n",
    "\n",
    "            for c in range(sqrt_k):\n",
    "                qtable[r][c] = int(row[c])\n",
    "            r += 1\n",
    "\n",
    "    return qtable"
   ]
  },
  {
   "cell_type": "code",
   "execution_count": 12,
   "metadata": {},
   "outputs": [],
   "source": [
    "def compare_two_table(ref, res):\n",
    "    diff = np.zeros((sqrt_k, sqrt_k), dtype=np.float32)\n",
    "\n",
    "    for r in range(sqrt_k):\n",
    "        for c in range(sqrt_k):\n",
    "            diff[r][c] = round(abs(ref[r][c] - res[r][c]) / ref[r][c], 4)\n",
    "    \n",
    "    print('The mean percentage error is {e}'.format(e=diff.mean()))\n",
    "    print('The standard deviation of percentage error is {std}'.format(std=np.std(diff)))\n",
    "    return diff\n",
    "\n",
    "# diff = compare_two_table(ref, res)\n"
   ]
  },
  {
   "cell_type": "code",
   "execution_count": 13,
   "metadata": {},
   "outputs": [],
   "source": [
    "def compare_two_table_zigzag(ref, res, k):\n",
    "    diff = np.zeros((k), dtype=np.float32)\n",
    "    dct_arr = np.zeros((k + 1), dtype=np.float32)\n",
    "\n",
    "    for r in range(sqrt_k):\n",
    "        for c in range(sqrt_k):\n",
    "            if zigzag[r][c] < 15:\n",
    "                diff[zigzag[r][c]] = round(abs(ref[r][c] - res[r][c]) / ref[r][c], 4)\n",
    "                dct_arr[zigzag[r][c] + 1] = 1 if ref[r][c] == res[r][c] else 0\n",
    "    \n",
    "    # print('The mean percentage error is {e}'.format(e=diff.mean()))\n",
    "    # print('The standard deviation of percentage error is {std}'.format(std=np.std(diff)))\n",
    "    dct_arr[0] = diff.mean()\n",
    "    return dct_arr"
   ]
  },
  {
   "cell_type": "code",
   "execution_count": 14,
   "metadata": {},
   "outputs": [],
   "source": [
    "# For testing purpose, we pass in a jpg image then compress it once (to simulate multiple compression)\n",
    "# For the second compression, we can use different quality factor (which coresponse to a qtable in jpeg format)\n",
    "# Then, using our algorithm calculate the mean and standard deviation of percentage error\n",
    "# where percentage error is defined as |res_i - ref_i| / ref_i\n",
    "# def testing(dir, img, quality):\n",
    "#     path = os.path.join(dir, img)\n",
    "\n",
    "#     ref, _ = get_qtable_ctable_from_jpg(path)\n",
    "\n",
    "#     # Save the img as bmp for compression\n",
    "#     save_img_as_bmp(path, 0, 'source.bmp')\n",
    "#     # Compress image into another jpg\n",
    "#     compress_with_quality(quality, 'source.jpg', 'source.bmp')\n",
    "    \n",
    "#     res = find_second_latest_qtable('.', 'source.jpg')\n",
    "#     # print(ref)\n",
    "#     # print(res)\n",
    "#     print('Result for quality {q} for {img}'.format(q=quality, img=path))\n",
    "#     compare_two_table(ref, res)\n",
    "\n",
    "# def testing_zigzag(dir, img, quality):\n",
    "#     path = os.path.join(dir, img)\n",
    "\n",
    "#     ref, _ = get_qtable_ctable_from_jpg(path)\n",
    "\n",
    "#     # Save the img as bmp for compression\n",
    "#     save_img_as_bmp(path, 0, 'source.bmp')\n",
    "#     # Compress image into another jpg\n",
    "#     compress_with_quality(quality, 'source.jpg', 'source.bmp')\n",
    "    \n",
    "#     res = find_second_latest_qtable('.', 'source.jpg')\n",
    "#     # print(ref)\n",
    "#     # print(res)\n",
    "#     print('Result for quality {q} for {img}'.format(q=quality, img=path))\n",
    "#     compare_two_table_zigzag(ref, res, 15)"
   ]
  },
  {
   "cell_type": "code",
   "execution_count": 15,
   "metadata": {},
   "outputs": [],
   "source": [
    "# res = find_second_latest_qtable('images', 'test3.jpg')\n",
    "# ref = read_qtable('ref.txt')\n",
    "# def repeated_testing(dir, img):\n",
    "#     for i in [30, 40, 50, 60, 70, 80, 90]:\n",
    "#         testing(dir, img, i)\n",
    "\n",
    "# # testing('images', 'compass.jpg', 85)\n",
    "\n",
    "# def repeated_testing_zigzag(dir, img):\n",
    "#     for i in [30, 40, 50, 60, 70, 80, 90]:\n",
    "#         testing_zigzag(dir, img, i)"
   ]
  },
  {
   "cell_type": "code",
   "execution_count": 16,
   "metadata": {},
   "outputs": [],
   "source": [
    "# repeated_testing('images', 'compass.jpg')\n",
    "# repeated_testing_zigzag('images', 'compass.jpg')\n",
    "# repeated_testing('images', 'test1.jpg')"
   ]
  },
  {
   "cell_type": "code",
   "execution_count": 17,
   "metadata": {},
   "outputs": [],
   "source": [
    "# Pass in crop_width < 0 if want crop_width to be the same as img_width\n",
    "# Similarly for crop_height\n",
    "def crop_img_into_bmp(img, crop_width=-1, crop_height=-1):\n",
    "    with Image.open(img) as im:\n",
    "        width, height = im.size\n",
    "        # crop a 64 x 64 patch from the central\n",
    "        tar_width, tar_height = crop_width, crop_height\n",
    "\n",
    "        if crop_width < 0:\n",
    "            tar_width = width\n",
    "        \n",
    "        if crop_height < 0:\n",
    "            tar_height = height\n",
    "\n",
    "        if width < tar_width or height < tar_height:\n",
    "            # This image is too small\n",
    "            return False\n",
    "        \n",
    "        left, right = width // 2 - tar_width // 2, width // 2 + tar_width // 2\n",
    "        upper, lower = height // 2 - tar_height // 2, height // 2 + tar_height // 2\n",
    "        save_img_as_bmp_box(img, left, upper, right, lower, 'source.bmp')\n",
    "    return True\n",
    "\n",
    "def compress_twice_using_qf(QF1, QF2, img, res_df):\n",
    "    compress_with_quality(quality=QF1, outfile='source.jpg', img='source.bmp')\n",
    "    \n",
    "    ref, _ = get_qtable_ctable_from_jpg('source.jpg')\n",
    "\n",
    "    save_img_as_bmp('source.jpg', 0, 'source.bmp')\n",
    "    compress_with_quality(quality=QF2, outfile='source.jpg', img='source.bmp')\n",
    "\n",
    "    res = find_second_latest_qtable('.', 'source.jpg')\n",
    "\n",
    "    dct_arr = compare_two_table_zigzag(ref=ref, res=res, k=15)\n",
    "    dct_arr = dct_arr.tolist()\n",
    "    dct_arr.insert(0, img)\n",
    "    \n",
    "    res_df = pd.concat([res_df, pd.DataFrame([dct_arr], columns=res_df.columns)], ignore_index=True)\n",
    "    return res_df\n",
    "\n"
   ]
  },
  {
   "cell_type": "code",
   "execution_count": 24,
   "metadata": {},
   "outputs": [],
   "source": [
    "def compress_twice_result(csv_file):\n",
    "    df = pd.read_csv(csv_file)\n",
    "    file_tiff = df[['File', 'TIFF']].head(250)\n",
    "\n",
    "    Q1s = [60, 65, 70, 75, 80, 85, 90, 95]\n",
    "    Q2s = [80, 90]\n",
    "\n",
    "    for QF1 in Q1s:\n",
    "        for QF2 in Q2s:\n",
    "            # Write the res_df into csv\n",
    "            columns = ['File', 'Mean Percentage Error'] + ['DCT_{i}'.format(i=i) for i in range(1, 16)]\n",
    "            res_df = pd.DataFrame(columns=columns)\n",
    "\n",
    "            print('Evaluating result for QF1={QF1} and QF2={QF2}:'.format(QF1=QF1, QF2=QF2))\n",
    "            \n",
    "            for index, row in tqdm(file_tiff.iterrows(), total=file_tiff.shape[0]):\n",
    "                img = row['File'] + '.TIF'\n",
    "                url = row['TIFF']\n",
    "\n",
    "                # Download the image\n",
    "                subprocess.run('wget {url}'.format(url=url))\n",
    "\n",
    "                if not crop_img_into_bmp(img, 64, 64):\n",
    "                    os.remove(img)\n",
    "                    continue\n",
    "\n",
    "                \n",
    "                res_df = compress_twice_using_qf(QF1, QF2, img, res_df)\n",
    "    \n",
    "                # Remove the downloaded image to save storage\n",
    "                os.remove(img)\n",
    "                \n",
    "                # Write to csv file every 50 iterations\n",
    "                if (index + 1) % 50 == 0:\n",
    "                    res_csv = '{qf1}_{qf2}.csv'.format(qf1=QF1, qf2=QF2)\n",
    "                    res_df.to_csv(os.path.join('Result', res_csv), index=False)\n",
    "                        \n"
   ]
  },
  {
   "cell_type": "code",
   "execution_count": 25,
   "metadata": {},
   "outputs": [
    {
     "name": "stdout",
     "output_type": "stream",
     "text": [
      "Evaluating result for QF1=60 and QF2=80:\n"
     ]
    },
    {
     "data": {
      "application/vnd.jupyter.widget-view+json": {
       "model_id": "eb4bbbeff8ef49eab3b9adddfaa573e1",
       "version_major": 2,
       "version_minor": 0
      },
      "text/plain": [
       "  0%|          | 0/250 [00:00<?, ?it/s]"
      ]
     },
     "metadata": {},
     "output_type": "display_data"
    },
    {
     "name": "stdout",
     "output_type": "stream",
     "text": [
      "Evaluating result for QF1=60 and QF2=90:\n"
     ]
    },
    {
     "data": {
      "application/vnd.jupyter.widget-view+json": {
       "model_id": "1892c541100044e79e1183d7efa323ba",
       "version_major": 2,
       "version_minor": 0
      },
      "text/plain": [
       "  0%|          | 0/250 [00:00<?, ?it/s]"
      ]
     },
     "metadata": {},
     "output_type": "display_data"
    },
    {
     "name": "stdout",
     "output_type": "stream",
     "text": [
      "Evaluating result for QF1=65 and QF2=80:\n"
     ]
    },
    {
     "data": {
      "application/vnd.jupyter.widget-view+json": {
       "model_id": "c0a0f05528a14c8a98cf7b9fafa755be",
       "version_major": 2,
       "version_minor": 0
      },
      "text/plain": [
       "  0%|          | 0/250 [00:00<?, ?it/s]"
      ]
     },
     "metadata": {},
     "output_type": "display_data"
    },
    {
     "name": "stdout",
     "output_type": "stream",
     "text": [
      "Evaluating result for QF1=65 and QF2=90:\n"
     ]
    },
    {
     "data": {
      "application/vnd.jupyter.widget-view+json": {
       "model_id": "0eb4c9383b574bee9986d7ac064ee2ad",
       "version_major": 2,
       "version_minor": 0
      },
      "text/plain": [
       "  0%|          | 0/250 [00:00<?, ?it/s]"
      ]
     },
     "metadata": {},
     "output_type": "display_data"
    },
    {
     "name": "stdout",
     "output_type": "stream",
     "text": [
      "Evaluating result for QF1=70 and QF2=80:\n"
     ]
    },
    {
     "data": {
      "application/vnd.jupyter.widget-view+json": {
       "model_id": "0f45a257bd2743539f216f8f386c55ab",
       "version_major": 2,
       "version_minor": 0
      },
      "text/plain": [
       "  0%|          | 0/250 [00:00<?, ?it/s]"
      ]
     },
     "metadata": {},
     "output_type": "display_data"
    },
    {
     "name": "stdout",
     "output_type": "stream",
     "text": [
      "Evaluating result for QF1=70 and QF2=90:\n"
     ]
    },
    {
     "data": {
      "application/vnd.jupyter.widget-view+json": {
       "model_id": "b9135331847b4e19a5d81142a6578874",
       "version_major": 2,
       "version_minor": 0
      },
      "text/plain": [
       "  0%|          | 0/250 [00:00<?, ?it/s]"
      ]
     },
     "metadata": {},
     "output_type": "display_data"
    },
    {
     "name": "stdout",
     "output_type": "stream",
     "text": [
      "Evaluating result for QF1=75 and QF2=80:\n"
     ]
    },
    {
     "data": {
      "application/vnd.jupyter.widget-view+json": {
       "model_id": "4f049b145a0c45f382fc37da62bab4b6",
       "version_major": 2,
       "version_minor": 0
      },
      "text/plain": [
       "  0%|          | 0/250 [00:00<?, ?it/s]"
      ]
     },
     "metadata": {},
     "output_type": "display_data"
    },
    {
     "ename": "KeyboardInterrupt",
     "evalue": "",
     "output_type": "error",
     "traceback": [
      "\u001b[1;31m---------------------------------------------------------------------------\u001b[0m",
      "\u001b[1;31mKeyboardInterrupt\u001b[0m                         Traceback (most recent call last)",
      "\u001b[1;32m~\\AppData\\Local\\Temp/ipykernel_26364/286938060.py\u001b[0m in \u001b[0;36m<module>\u001b[1;34m\u001b[0m\n\u001b[1;32m----> 1\u001b[1;33m \u001b[0mcompress_twice_result\u001b[0m\u001b[1;33m(\u001b[0m\u001b[1;34m'RAISE_1k.csv'\u001b[0m\u001b[1;33m)\u001b[0m\u001b[1;33m\u001b[0m\u001b[1;33m\u001b[0m\u001b[0m\n\u001b[0m",
      "\u001b[1;32m~\\AppData\\Local\\Temp/ipykernel_26364/4044060355.py\u001b[0m in \u001b[0;36mcompress_twice_result\u001b[1;34m(csv_file)\u001b[0m\n\u001b[0;32m     19\u001b[0m \u001b[1;33m\u001b[0m\u001b[0m\n\u001b[0;32m     20\u001b[0m                 \u001b[1;31m# Download the image\u001b[0m\u001b[1;33m\u001b[0m\u001b[1;33m\u001b[0m\u001b[1;33m\u001b[0m\u001b[0m\n\u001b[1;32m---> 21\u001b[1;33m                 \u001b[0msubprocess\u001b[0m\u001b[1;33m.\u001b[0m\u001b[0mrun\u001b[0m\u001b[1;33m(\u001b[0m\u001b[1;34m'wget {url}'\u001b[0m\u001b[1;33m.\u001b[0m\u001b[0mformat\u001b[0m\u001b[1;33m(\u001b[0m\u001b[0murl\u001b[0m\u001b[1;33m=\u001b[0m\u001b[0murl\u001b[0m\u001b[1;33m)\u001b[0m\u001b[1;33m)\u001b[0m\u001b[1;33m\u001b[0m\u001b[1;33m\u001b[0m\u001b[0m\n\u001b[0m\u001b[0;32m     22\u001b[0m \u001b[1;33m\u001b[0m\u001b[0m\n\u001b[0;32m     23\u001b[0m                 \u001b[1;32mif\u001b[0m \u001b[1;32mnot\u001b[0m \u001b[0mcrop_img_into_bmp\u001b[0m\u001b[1;33m(\u001b[0m\u001b[0mimg\u001b[0m\u001b[1;33m,\u001b[0m \u001b[1;36m64\u001b[0m\u001b[1;33m,\u001b[0m \u001b[1;36m64\u001b[0m\u001b[1;33m)\u001b[0m\u001b[1;33m:\u001b[0m\u001b[1;33m\u001b[0m\u001b[1;33m\u001b[0m\u001b[0m\n",
      "\u001b[1;32mc:\\Users\\admin\\AppData\\Local\\Programs\\Python\\Python39\\lib\\subprocess.py\u001b[0m in \u001b[0;36mrun\u001b[1;34m(input, capture_output, timeout, check, *popenargs, **kwargs)\u001b[0m\n\u001b[0;32m    505\u001b[0m     \u001b[1;32mwith\u001b[0m \u001b[0mPopen\u001b[0m\u001b[1;33m(\u001b[0m\u001b[1;33m*\u001b[0m\u001b[0mpopenargs\u001b[0m\u001b[1;33m,\u001b[0m \u001b[1;33m**\u001b[0m\u001b[0mkwargs\u001b[0m\u001b[1;33m)\u001b[0m \u001b[1;32mas\u001b[0m \u001b[0mprocess\u001b[0m\u001b[1;33m:\u001b[0m\u001b[1;33m\u001b[0m\u001b[1;33m\u001b[0m\u001b[0m\n\u001b[0;32m    506\u001b[0m         \u001b[1;32mtry\u001b[0m\u001b[1;33m:\u001b[0m\u001b[1;33m\u001b[0m\u001b[1;33m\u001b[0m\u001b[0m\n\u001b[1;32m--> 507\u001b[1;33m             \u001b[0mstdout\u001b[0m\u001b[1;33m,\u001b[0m \u001b[0mstderr\u001b[0m \u001b[1;33m=\u001b[0m \u001b[0mprocess\u001b[0m\u001b[1;33m.\u001b[0m\u001b[0mcommunicate\u001b[0m\u001b[1;33m(\u001b[0m\u001b[0minput\u001b[0m\u001b[1;33m,\u001b[0m \u001b[0mtimeout\u001b[0m\u001b[1;33m=\u001b[0m\u001b[0mtimeout\u001b[0m\u001b[1;33m)\u001b[0m\u001b[1;33m\u001b[0m\u001b[1;33m\u001b[0m\u001b[0m\n\u001b[0m\u001b[0;32m    508\u001b[0m         \u001b[1;32mexcept\u001b[0m \u001b[0mTimeoutExpired\u001b[0m \u001b[1;32mas\u001b[0m \u001b[0mexc\u001b[0m\u001b[1;33m:\u001b[0m\u001b[1;33m\u001b[0m\u001b[1;33m\u001b[0m\u001b[0m\n\u001b[0;32m    509\u001b[0m             \u001b[0mprocess\u001b[0m\u001b[1;33m.\u001b[0m\u001b[0mkill\u001b[0m\u001b[1;33m(\u001b[0m\u001b[1;33m)\u001b[0m\u001b[1;33m\u001b[0m\u001b[1;33m\u001b[0m\u001b[0m\n",
      "\u001b[1;32mc:\\Users\\admin\\AppData\\Local\\Programs\\Python\\Python39\\lib\\subprocess.py\u001b[0m in \u001b[0;36mcommunicate\u001b[1;34m(self, input, timeout)\u001b[0m\n\u001b[0;32m   1124\u001b[0m                 \u001b[0mstderr\u001b[0m \u001b[1;33m=\u001b[0m \u001b[0mself\u001b[0m\u001b[1;33m.\u001b[0m\u001b[0mstderr\u001b[0m\u001b[1;33m.\u001b[0m\u001b[0mread\u001b[0m\u001b[1;33m(\u001b[0m\u001b[1;33m)\u001b[0m\u001b[1;33m\u001b[0m\u001b[1;33m\u001b[0m\u001b[0m\n\u001b[0;32m   1125\u001b[0m                 \u001b[0mself\u001b[0m\u001b[1;33m.\u001b[0m\u001b[0mstderr\u001b[0m\u001b[1;33m.\u001b[0m\u001b[0mclose\u001b[0m\u001b[1;33m(\u001b[0m\u001b[1;33m)\u001b[0m\u001b[1;33m\u001b[0m\u001b[1;33m\u001b[0m\u001b[0m\n\u001b[1;32m-> 1126\u001b[1;33m             \u001b[0mself\u001b[0m\u001b[1;33m.\u001b[0m\u001b[0mwait\u001b[0m\u001b[1;33m(\u001b[0m\u001b[1;33m)\u001b[0m\u001b[1;33m\u001b[0m\u001b[1;33m\u001b[0m\u001b[0m\n\u001b[0m\u001b[0;32m   1127\u001b[0m         \u001b[1;32melse\u001b[0m\u001b[1;33m:\u001b[0m\u001b[1;33m\u001b[0m\u001b[1;33m\u001b[0m\u001b[0m\n\u001b[0;32m   1128\u001b[0m             \u001b[1;32mif\u001b[0m \u001b[0mtimeout\u001b[0m \u001b[1;32mis\u001b[0m \u001b[1;32mnot\u001b[0m \u001b[1;32mNone\u001b[0m\u001b[1;33m:\u001b[0m\u001b[1;33m\u001b[0m\u001b[1;33m\u001b[0m\u001b[0m\n",
      "\u001b[1;32mc:\\Users\\admin\\AppData\\Local\\Programs\\Python\\Python39\\lib\\subprocess.py\u001b[0m in \u001b[0;36mwait\u001b[1;34m(self, timeout)\u001b[0m\n\u001b[0;32m   1187\u001b[0m             \u001b[0mendtime\u001b[0m \u001b[1;33m=\u001b[0m \u001b[0m_time\u001b[0m\u001b[1;33m(\u001b[0m\u001b[1;33m)\u001b[0m \u001b[1;33m+\u001b[0m \u001b[0mtimeout\u001b[0m\u001b[1;33m\u001b[0m\u001b[1;33m\u001b[0m\u001b[0m\n\u001b[0;32m   1188\u001b[0m         \u001b[1;32mtry\u001b[0m\u001b[1;33m:\u001b[0m\u001b[1;33m\u001b[0m\u001b[1;33m\u001b[0m\u001b[0m\n\u001b[1;32m-> 1189\u001b[1;33m             \u001b[1;32mreturn\u001b[0m \u001b[0mself\u001b[0m\u001b[1;33m.\u001b[0m\u001b[0m_wait\u001b[0m\u001b[1;33m(\u001b[0m\u001b[0mtimeout\u001b[0m\u001b[1;33m=\u001b[0m\u001b[0mtimeout\u001b[0m\u001b[1;33m)\u001b[0m\u001b[1;33m\u001b[0m\u001b[1;33m\u001b[0m\u001b[0m\n\u001b[0m\u001b[0;32m   1190\u001b[0m         \u001b[1;32mexcept\u001b[0m \u001b[0mKeyboardInterrupt\u001b[0m\u001b[1;33m:\u001b[0m\u001b[1;33m\u001b[0m\u001b[1;33m\u001b[0m\u001b[0m\n\u001b[0;32m   1191\u001b[0m             \u001b[1;31m# https://bugs.python.org/issue25942\u001b[0m\u001b[1;33m\u001b[0m\u001b[1;33m\u001b[0m\u001b[1;33m\u001b[0m\u001b[0m\n",
      "\u001b[1;32mc:\\Users\\admin\\AppData\\Local\\Programs\\Python\\Python39\\lib\\subprocess.py\u001b[0m in \u001b[0;36m_wait\u001b[1;34m(self, timeout)\u001b[0m\n\u001b[0;32m   1468\u001b[0m             \u001b[1;32mif\u001b[0m \u001b[0mself\u001b[0m\u001b[1;33m.\u001b[0m\u001b[0mreturncode\u001b[0m \u001b[1;32mis\u001b[0m \u001b[1;32mNone\u001b[0m\u001b[1;33m:\u001b[0m\u001b[1;33m\u001b[0m\u001b[1;33m\u001b[0m\u001b[0m\n\u001b[0;32m   1469\u001b[0m                 \u001b[1;31m# API note: Returns immediately if timeout_millis == 0.\u001b[0m\u001b[1;33m\u001b[0m\u001b[1;33m\u001b[0m\u001b[1;33m\u001b[0m\u001b[0m\n\u001b[1;32m-> 1470\u001b[1;33m                 result = _winapi.WaitForSingleObject(self._handle,\n\u001b[0m\u001b[0;32m   1471\u001b[0m                                                      timeout_millis)\n\u001b[0;32m   1472\u001b[0m                 \u001b[1;32mif\u001b[0m \u001b[0mresult\u001b[0m \u001b[1;33m==\u001b[0m \u001b[0m_winapi\u001b[0m\u001b[1;33m.\u001b[0m\u001b[0mWAIT_TIMEOUT\u001b[0m\u001b[1;33m:\u001b[0m\u001b[1;33m\u001b[0m\u001b[1;33m\u001b[0m\u001b[0m\n",
      "\u001b[1;31mKeyboardInterrupt\u001b[0m: "
     ]
    }
   ],
   "source": [
    "compress_twice_result('RAISE_1k.csv')"
   ]
  }
 ],
 "metadata": {
  "kernelspec": {
   "display_name": "Python 3.9.2 64-bit",
   "language": "python",
   "name": "python3"
  },
  "language_info": {
   "codemirror_mode": {
    "name": "ipython",
    "version": 3
   },
   "file_extension": ".py",
   "mimetype": "text/x-python",
   "name": "python",
   "nbconvert_exporter": "python",
   "pygments_lexer": "ipython3",
   "version": "3.9.2"
  },
  "orig_nbformat": 4,
  "vscode": {
   "interpreter": {
    "hash": "4cff3abf1678755e0069fd79299a535fe1940bcd71a6b01d9f4386710b2b163f"
   }
  }
 },
 "nbformat": 4,
 "nbformat_minor": 2
}
